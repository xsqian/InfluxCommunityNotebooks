{
 "cells": [
  {
   "cell_type": "markdown",
   "id": "8eb77d46",
   "metadata": {},
   "source": [
    "# KATS GM-RNN\n",
    "\n",
    "Learn how to make a forecast on the NOAA sample dataset with the pretrained GM-RNN model from Kats. "
   ]
  },
  {
   "cell_type": "markdown",
   "id": "d1fabe5f",
   "metadata": {},
   "source": [
    "## Step One: \n",
    "Import Dependencies"
   ]
  },
  {
   "cell_type": "code",
   "execution_count": 1,
   "id": "b0a49acf",
   "metadata": {},
   "outputs": [],
   "source": [
    "# !pip install influxdb-client==1.30.0\n",
    "# !pip install kats"
   ]
  },
  {
   "cell_type": "code",
   "execution_count": 2,
   "id": "80191641",
   "metadata": {},
   "outputs": [],
   "source": [
    "import pandas as pd\n",
    "import numpy as np\n",
    "import warnings\n",
    "from sklearn.model_selection import train_test_split\n",
    "from influxdb_client import InfluxDBClient\n",
    "from influxdb_client.client.write_api import SYNCHRONOUS\n",
    "from kats.consts import TimeSeriesData\n",
    "\n",
    "from kats.models.sarima import SARIMAModel, SARIMAParams\n",
    "import kats.utils.time_series_parameter_tuning as tpt\n",
    "from kats.consts import ModelEnum, SearchMethodEnum, TimeSeriesData\n",
    "from kats.models.arima import ARIMAParams, ARIMAModel\n",
    "from kats.models.globalmodel.ensemble import GMEnsemble, load_gmensemble_from_file\n",
    "\n",
    "from ax.core.parameter import ChoiceParameter, FixedParameter, ParameterType\n",
    "from ax.models.random.sobol import SobolGenerator\n",
    "from ax.models.random.uniform import UniformGenerator\n",
    "warnings.simplefilter(action='ignore')"
   ]
  },
  {
   "cell_type": "code",
   "execution_count": 3,
   "id": "70bdd92b",
   "metadata": {},
   "outputs": [
    {
     "name": "stdout",
     "output_type": "stream",
     "text": [
      "  % Total    % Received % Xferd  Average Speed   Time    Time     Time  Current\n",
      "                                 Dload  Upload   Total   Spent    Left  Speed\n",
      "100 10.3M  100 10.3M    0     0  12.0M      0 --:--:-- --:--:-- --:--:-- 12.0M\n"
     ]
    }
   ],
   "source": [
    "!curl https://influx-testdata.s3.amazonaws.com/noaa.csv -o noaa.csv"
   ]
  },
  {
   "cell_type": "markdown",
   "id": "91b32dee",
   "metadata": {},
   "source": [
    "### prepare data in influxdb"
   ]
  },
  {
   "cell_type": "code",
   "execution_count": null,
   "id": "369679c9",
   "metadata": {},
   "outputs": [],
   "source": [
    "import \"experimental/csv\"\n",
    "\n",
    "relativeToNow = (tables=<-) => tables\n",
    "    |> elapsed()\n",
    "    |> sort(columns: [\"_time\"], desc: true)\n",
    "    |> cumulativeSum(columns: [\"elapsed\"])\n",
    "    |> map(fn: (r) => ({r with _time: time(v: int(v: now()) - r.elapsed * 10000000000)})) #note here there is an extra \"0\"\n",
    "\n",
    "csv.from(url: \"https://influx-testdata.s3.amazonaws.com/noaa.csv\")\n",
    "    |> relativeToNow()\n",
    "    |> limit(n:1000, offset: 0)    \n",
    "    |> to(bucket: \"test_bucket_from_python\")"
   ]
  },
  {
   "cell_type": "code",
   "execution_count": null,
   "id": "a11df31b",
   "metadata": {},
   "outputs": [],
   "source": []
  },
  {
   "cell_type": "markdown",
   "id": "c7a3167b",
   "metadata": {},
   "source": [
    "## Step Two:\n",
    "Instantiate the Python Client Libary and build the Flux query. \n"
   ]
  },
  {
   "cell_type": "code",
   "execution_count": 5,
   "id": "2dbc4ed4",
   "metadata": {},
   "outputs": [],
   "source": [
    "client = InfluxDBClient(url=\"https://us-west-2-1.aws.cloud2.influxdata.com/\", token=\"ZFSDx1udluHMpx3cshN73iZPXoCA5NXIfuHlIspzD6u33WjKdWTbgrny3rKKORebc3y5qSZdiaTOiyB-VejfQw==\", org=\"03dd0439a8172000\")\n",
    "write_api = client.write_api(write_options=SYNCHRONOUS)\n",
    "query_api = client.query_api()"
   ]
  },
  {
   "cell_type": "code",
   "execution_count": 149,
   "id": "7745b0d1",
   "metadata": {},
   "outputs": [],
   "source": [
    "df = query_api.query_data_frame('from(bucket: \"test_bucket_from_python\")'\n",
    "  '|> range(start: -30d)'\n",
    "  '|> filter(fn: (r) => r[\"_measurement\"] == \"average_temperature\")'\n",
    "  '|> filter(fn: (r) => r[\"_field\"] == \"degrees\")'\n",
    "  '|> filter(fn: (r) => r[\"location\"] == \"coyote_creek\")'\n",
    "  '|> aggregateWindow(every: 1d, fn: mean, createEmpty: false)'\n",
    "  '|> pivot(rowKey:[\"_time\"], columnKey: [\"_field\"], valueColumn: \"_value\")'\n",
    "  '|> keep(columns:[\"_time\",\"degrees\"])')"
   ]
  },
  {
   "cell_type": "code",
   "execution_count": 150,
   "id": "65837fa6",
   "metadata": {},
   "outputs": [
    {
     "data": {
      "text/html": [
       "<div>\n",
       "<style scoped>\n",
       "    .dataframe tbody tr th:only-of-type {\n",
       "        vertical-align: middle;\n",
       "    }\n",
       "\n",
       "    .dataframe tbody tr th {\n",
       "        vertical-align: top;\n",
       "    }\n",
       "\n",
       "    .dataframe thead th {\n",
       "        text-align: right;\n",
       "    }\n",
       "</style>\n",
       "<table border=\"1\" class=\"dataframe\">\n",
       "  <thead>\n",
       "    <tr style=\"text-align: right;\">\n",
       "      <th></th>\n",
       "      <th>time</th>\n",
       "      <th>degrees</th>\n",
       "    </tr>\n",
       "  </thead>\n",
       "  <tbody>\n",
       "    <tr>\n",
       "      <th>0</th>\n",
       "      <td>2022-09-01 00:00:00+00:00</td>\n",
       "      <td>81.500000</td>\n",
       "    </tr>\n",
       "    <tr>\n",
       "      <th>1</th>\n",
       "      <td>2022-09-02 00:00:00+00:00</td>\n",
       "      <td>80.416667</td>\n",
       "    </tr>\n",
       "    <tr>\n",
       "      <th>2</th>\n",
       "      <td>2022-09-03 00:00:00+00:00</td>\n",
       "      <td>78.916667</td>\n",
       "    </tr>\n",
       "    <tr>\n",
       "      <th>3</th>\n",
       "      <td>2022-09-04 00:00:00+00:00</td>\n",
       "      <td>79.833333</td>\n",
       "    </tr>\n",
       "    <tr>\n",
       "      <th>4</th>\n",
       "      <td>2022-09-05 00:00:00+00:00</td>\n",
       "      <td>77.625000</td>\n",
       "    </tr>\n",
       "    <tr>\n",
       "      <th>5</th>\n",
       "      <td>2022-09-06 00:00:00+00:00</td>\n",
       "      <td>81.208333</td>\n",
       "    </tr>\n",
       "    <tr>\n",
       "      <th>6</th>\n",
       "      <td>2022-09-07 00:00:00+00:00</td>\n",
       "      <td>80.791667</td>\n",
       "    </tr>\n",
       "    <tr>\n",
       "      <th>7</th>\n",
       "      <td>2022-09-08 00:00:00+00:00</td>\n",
       "      <td>79.416667</td>\n",
       "    </tr>\n",
       "    <tr>\n",
       "      <th>8</th>\n",
       "      <td>2022-09-09 00:00:00+00:00</td>\n",
       "      <td>80.250000</td>\n",
       "    </tr>\n",
       "    <tr>\n",
       "      <th>9</th>\n",
       "      <td>2022-09-10 00:00:00+00:00</td>\n",
       "      <td>79.083333</td>\n",
       "    </tr>\n",
       "    <tr>\n",
       "      <th>10</th>\n",
       "      <td>2022-09-11 00:00:00+00:00</td>\n",
       "      <td>81.458333</td>\n",
       "    </tr>\n",
       "    <tr>\n",
       "      <th>11</th>\n",
       "      <td>2022-09-12 00:00:00+00:00</td>\n",
       "      <td>78.583333</td>\n",
       "    </tr>\n",
       "    <tr>\n",
       "      <th>12</th>\n",
       "      <td>2022-09-13 00:00:00+00:00</td>\n",
       "      <td>80.500000</td>\n",
       "    </tr>\n",
       "    <tr>\n",
       "      <th>13</th>\n",
       "      <td>2022-09-14 00:00:00+00:00</td>\n",
       "      <td>78.000000</td>\n",
       "    </tr>\n",
       "    <tr>\n",
       "      <th>14</th>\n",
       "      <td>2022-09-15 00:00:00+00:00</td>\n",
       "      <td>79.791667</td>\n",
       "    </tr>\n",
       "    <tr>\n",
       "      <th>15</th>\n",
       "      <td>2022-09-16 00:00:00+00:00</td>\n",
       "      <td>78.750000</td>\n",
       "    </tr>\n",
       "    <tr>\n",
       "      <th>16</th>\n",
       "      <td>2022-09-17 00:00:00+00:00</td>\n",
       "      <td>79.125000</td>\n",
       "    </tr>\n",
       "    <tr>\n",
       "      <th>17</th>\n",
       "      <td>2022-09-18 00:00:00+00:00</td>\n",
       "      <td>77.166667</td>\n",
       "    </tr>\n",
       "    <tr>\n",
       "      <th>18</th>\n",
       "      <td>2022-09-19 00:00:00+00:00</td>\n",
       "      <td>83.458333</td>\n",
       "    </tr>\n",
       "    <tr>\n",
       "      <th>19</th>\n",
       "      <td>2022-09-20 00:00:00+00:00</td>\n",
       "      <td>78.625000</td>\n",
       "    </tr>\n",
       "    <tr>\n",
       "      <th>20</th>\n",
       "      <td>2022-09-21 00:00:00+00:00</td>\n",
       "      <td>79.666667</td>\n",
       "    </tr>\n",
       "    <tr>\n",
       "      <th>21</th>\n",
       "      <td>2022-09-22 00:00:00+00:00</td>\n",
       "      <td>79.833333</td>\n",
       "    </tr>\n",
       "    <tr>\n",
       "      <th>22</th>\n",
       "      <td>2022-09-23 00:00:00+00:00</td>\n",
       "      <td>78.250000</td>\n",
       "    </tr>\n",
       "    <tr>\n",
       "      <th>23</th>\n",
       "      <td>2022-09-24 00:00:00+00:00</td>\n",
       "      <td>81.250000</td>\n",
       "    </tr>\n",
       "    <tr>\n",
       "      <th>24</th>\n",
       "      <td>2022-09-25 00:00:00+00:00</td>\n",
       "      <td>77.500000</td>\n",
       "    </tr>\n",
       "    <tr>\n",
       "      <th>25</th>\n",
       "      <td>2022-09-26 00:00:00+00:00</td>\n",
       "      <td>81.666667</td>\n",
       "    </tr>\n",
       "    <tr>\n",
       "      <th>26</th>\n",
       "      <td>2022-09-27 00:00:00+00:00</td>\n",
       "      <td>80.029412</td>\n",
       "    </tr>\n",
       "    <tr>\n",
       "      <th>27</th>\n",
       "      <td>2022-09-28 00:00:00+00:00</td>\n",
       "      <td>79.811508</td>\n",
       "    </tr>\n",
       "    <tr>\n",
       "      <th>28</th>\n",
       "      <td>2022-09-29 00:00:00+00:00</td>\n",
       "      <td>79.295635</td>\n",
       "    </tr>\n",
       "    <tr>\n",
       "      <th>29</th>\n",
       "      <td>2022-09-30 00:00:00+00:00</td>\n",
       "      <td>79.805556</td>\n",
       "    </tr>\n",
       "    <tr>\n",
       "      <th>30</th>\n",
       "      <td>2022-09-30 18:20:28.563270+00:00</td>\n",
       "      <td>79.415929</td>\n",
       "    </tr>\n",
       "  </tbody>\n",
       "</table>\n",
       "</div>"
      ],
      "text/plain": [
       "                               time    degrees\n",
       "0         2022-09-01 00:00:00+00:00  81.500000\n",
       "1         2022-09-02 00:00:00+00:00  80.416667\n",
       "2         2022-09-03 00:00:00+00:00  78.916667\n",
       "3         2022-09-04 00:00:00+00:00  79.833333\n",
       "4         2022-09-05 00:00:00+00:00  77.625000\n",
       "5         2022-09-06 00:00:00+00:00  81.208333\n",
       "6         2022-09-07 00:00:00+00:00  80.791667\n",
       "7         2022-09-08 00:00:00+00:00  79.416667\n",
       "8         2022-09-09 00:00:00+00:00  80.250000\n",
       "9         2022-09-10 00:00:00+00:00  79.083333\n",
       "10        2022-09-11 00:00:00+00:00  81.458333\n",
       "11        2022-09-12 00:00:00+00:00  78.583333\n",
       "12        2022-09-13 00:00:00+00:00  80.500000\n",
       "13        2022-09-14 00:00:00+00:00  78.000000\n",
       "14        2022-09-15 00:00:00+00:00  79.791667\n",
       "15        2022-09-16 00:00:00+00:00  78.750000\n",
       "16        2022-09-17 00:00:00+00:00  79.125000\n",
       "17        2022-09-18 00:00:00+00:00  77.166667\n",
       "18        2022-09-19 00:00:00+00:00  83.458333\n",
       "19        2022-09-20 00:00:00+00:00  78.625000\n",
       "20        2022-09-21 00:00:00+00:00  79.666667\n",
       "21        2022-09-22 00:00:00+00:00  79.833333\n",
       "22        2022-09-23 00:00:00+00:00  78.250000\n",
       "23        2022-09-24 00:00:00+00:00  81.250000\n",
       "24        2022-09-25 00:00:00+00:00  77.500000\n",
       "25        2022-09-26 00:00:00+00:00  81.666667\n",
       "26        2022-09-27 00:00:00+00:00  80.029412\n",
       "27        2022-09-28 00:00:00+00:00  79.811508\n",
       "28        2022-09-29 00:00:00+00:00  79.295635\n",
       "29        2022-09-30 00:00:00+00:00  79.805556\n",
       "30 2022-09-30 18:20:28.563270+00:00  79.415929"
      ]
     },
     "execution_count": 150,
     "metadata": {},
     "output_type": "execute_result"
    }
   ],
   "source": [
    "df = df.copy()\n",
    "df = df.drop(columns=['result', 'table'])\n",
    "df = df.rename(columns={\"_time\": \"time\"})\n",
    "df"
   ]
  },
  {
   "cell_type": "code",
   "execution_count": 151,
   "id": "909fa75c",
   "metadata": {},
   "outputs": [],
   "source": [
    "df_plot = df.set_index('time')"
   ]
  },
  {
   "cell_type": "code",
   "execution_count": 152,
   "id": "6f721a43",
   "metadata": {},
   "outputs": [
    {
     "data": {
      "text/plain": [
       "<AxesSubplot:xlabel='time'>"
      ]
     },
     "execution_count": 152,
     "metadata": {},
     "output_type": "execute_result"
    },
    {
     "data": {
      "image/png": "[encoded data removed]",
      "text/plain": [
       "<Figure size 432x288 with 1 Axes>"
      ]
     },
     "metadata": {
      "needs_background": "light"
     },
     "output_type": "display_data"
    }
   ],
   "source": [
    "df_plot.plot()"
   ]
  },
  {
   "cell_type": "markdown",
   "id": "22aec18c",
   "metadata": {},
   "source": [
    "## Step Three: \n",
    "Reformat timestamp."
   ]
  },
  {
   "cell_type": "code",
   "execution_count": 153,
   "id": "148cda87",
   "metadata": {},
   "outputs": [
    {
     "data": {
      "text/html": [
       "<div>\n",
       "<style scoped>\n",
       "    .dataframe tbody tr th:only-of-type {\n",
       "        vertical-align: middle;\n",
       "    }\n",
       "\n",
       "    .dataframe tbody tr th {\n",
       "        vertical-align: top;\n",
       "    }\n",
       "\n",
       "    .dataframe thead th {\n",
       "        text-align: right;\n",
       "    }\n",
       "</style>\n",
       "<table border=\"1\" class=\"dataframe\">\n",
       "  <thead>\n",
       "    <tr style=\"text-align: right;\">\n",
       "      <th></th>\n",
       "      <th>time</th>\n",
       "      <th>degrees</th>\n",
       "    </tr>\n",
       "  </thead>\n",
       "  <tbody>\n",
       "    <tr>\n",
       "      <th>0</th>\n",
       "      <td>2022-09-01</td>\n",
       "      <td>81.500000</td>\n",
       "    </tr>\n",
       "    <tr>\n",
       "      <th>1</th>\n",
       "      <td>2022-09-02</td>\n",
       "      <td>80.416667</td>\n",
       "    </tr>\n",
       "    <tr>\n",
       "      <th>2</th>\n",
       "      <td>2022-09-03</td>\n",
       "      <td>78.916667</td>\n",
       "    </tr>\n",
       "    <tr>\n",
       "      <th>3</th>\n",
       "      <td>2022-09-04</td>\n",
       "      <td>79.833333</td>\n",
       "    </tr>\n",
       "    <tr>\n",
       "      <th>4</th>\n",
       "      <td>2022-09-05</td>\n",
       "      <td>77.625000</td>\n",
       "    </tr>\n",
       "    <tr>\n",
       "      <th>5</th>\n",
       "      <td>2022-09-06</td>\n",
       "      <td>81.208333</td>\n",
       "    </tr>\n",
       "    <tr>\n",
       "      <th>6</th>\n",
       "      <td>2022-09-07</td>\n",
       "      <td>80.791667</td>\n",
       "    </tr>\n",
       "    <tr>\n",
       "      <th>7</th>\n",
       "      <td>2022-09-08</td>\n",
       "      <td>79.416667</td>\n",
       "    </tr>\n",
       "    <tr>\n",
       "      <th>8</th>\n",
       "      <td>2022-09-09</td>\n",
       "      <td>80.250000</td>\n",
       "    </tr>\n",
       "    <tr>\n",
       "      <th>9</th>\n",
       "      <td>2022-09-10</td>\n",
       "      <td>79.083333</td>\n",
       "    </tr>\n",
       "    <tr>\n",
       "      <th>10</th>\n",
       "      <td>2022-09-11</td>\n",
       "      <td>81.458333</td>\n",
       "    </tr>\n",
       "    <tr>\n",
       "      <th>11</th>\n",
       "      <td>2022-09-12</td>\n",
       "      <td>78.583333</td>\n",
       "    </tr>\n",
       "  </tbody>\n",
       "</table>\n",
       "</div>"
      ],
      "text/plain": [
       "          time    degrees\n",
       "0   2022-09-01  81.500000\n",
       "1   2022-09-02  80.416667\n",
       "2   2022-09-03  78.916667\n",
       "3   2022-09-04  79.833333\n",
       "4   2022-09-05  77.625000\n",
       "5   2022-09-06  81.208333\n",
       "6   2022-09-07  80.791667\n",
       "7   2022-09-08  79.416667\n",
       "8   2022-09-09  80.250000\n",
       "9   2022-09-10  79.083333\n",
       "10  2022-09-11  81.458333\n",
       "11  2022-09-12  78.583333"
      ]
     },
     "execution_count": 153,
     "metadata": {},
     "output_type": "execute_result"
    }
   ],
   "source": [
    "df[\"time\"] = df[\"time\"].apply(lambda x: x.strftime('%Y-%m-%d'))\n",
    "df = df.head(15)\n",
    "df.head(12)"
   ]
  },
  {
   "cell_type": "markdown",
   "id": "1d7c2d3f",
   "metadata": {},
   "source": [
    "# Step Four: \n",
    "Split into train and test"
   ]
  },
  {
   "cell_type": "code",
   "execution_count": 154,
   "id": "e0e1ba17",
   "metadata": {},
   "outputs": [],
   "source": [
    "train = df.head(12)\n",
    "test = df.tail(3).reset_index(drop=True)"
   ]
  },
  {
   "cell_type": "code",
   "execution_count": 155,
   "id": "2c698c1a",
   "metadata": {},
   "outputs": [
    {
     "data": {
      "text/html": [
       "<div>\n",
       "<style scoped>\n",
       "    .dataframe tbody tr th:only-of-type {\n",
       "        vertical-align: middle;\n",
       "    }\n",
       "\n",
       "    .dataframe tbody tr th {\n",
       "        vertical-align: top;\n",
       "    }\n",
       "\n",
       "    .dataframe thead th {\n",
       "        text-align: right;\n",
       "    }\n",
       "</style>\n",
       "<table border=\"1\" class=\"dataframe\">\n",
       "  <thead>\n",
       "    <tr style=\"text-align: right;\">\n",
       "      <th></th>\n",
       "      <th>time</th>\n",
       "      <th>degrees</th>\n",
       "    </tr>\n",
       "  </thead>\n",
       "  <tbody>\n",
       "    <tr>\n",
       "      <th>0</th>\n",
       "      <td>2022-09-01</td>\n",
       "      <td>81.500000</td>\n",
       "    </tr>\n",
       "    <tr>\n",
       "      <th>1</th>\n",
       "      <td>2022-09-02</td>\n",
       "      <td>80.416667</td>\n",
       "    </tr>\n",
       "    <tr>\n",
       "      <th>2</th>\n",
       "      <td>2022-09-03</td>\n",
       "      <td>78.916667</td>\n",
       "    </tr>\n",
       "    <tr>\n",
       "      <th>3</th>\n",
       "      <td>2022-09-04</td>\n",
       "      <td>79.833333</td>\n",
       "    </tr>\n",
       "    <tr>\n",
       "      <th>4</th>\n",
       "      <td>2022-09-05</td>\n",
       "      <td>77.625000</td>\n",
       "    </tr>\n",
       "    <tr>\n",
       "      <th>5</th>\n",
       "      <td>2022-09-06</td>\n",
       "      <td>81.208333</td>\n",
       "    </tr>\n",
       "    <tr>\n",
       "      <th>6</th>\n",
       "      <td>2022-09-07</td>\n",
       "      <td>80.791667</td>\n",
       "    </tr>\n",
       "    <tr>\n",
       "      <th>7</th>\n",
       "      <td>2022-09-08</td>\n",
       "      <td>79.416667</td>\n",
       "    </tr>\n",
       "    <tr>\n",
       "      <th>8</th>\n",
       "      <td>2022-09-09</td>\n",
       "      <td>80.250000</td>\n",
       "    </tr>\n",
       "    <tr>\n",
       "      <th>9</th>\n",
       "      <td>2022-09-10</td>\n",
       "      <td>79.083333</td>\n",
       "    </tr>\n",
       "    <tr>\n",
       "      <th>10</th>\n",
       "      <td>2022-09-11</td>\n",
       "      <td>81.458333</td>\n",
       "    </tr>\n",
       "    <tr>\n",
       "      <th>11</th>\n",
       "      <td>2022-09-12</td>\n",
       "      <td>78.583333</td>\n",
       "    </tr>\n",
       "  </tbody>\n",
       "</table>\n",
       "</div>"
      ],
      "text/plain": [
       "          time    degrees\n",
       "0   2022-09-01  81.500000\n",
       "1   2022-09-02  80.416667\n",
       "2   2022-09-03  78.916667\n",
       "3   2022-09-04  79.833333\n",
       "4   2022-09-05  77.625000\n",
       "5   2022-09-06  81.208333\n",
       "6   2022-09-07  80.791667\n",
       "7   2022-09-08  79.416667\n",
       "8   2022-09-09  80.250000\n",
       "9   2022-09-10  79.083333\n",
       "10  2022-09-11  81.458333\n",
       "11  2022-09-12  78.583333"
      ]
     },
     "execution_count": 155,
     "metadata": {},
     "output_type": "execute_result"
    }
   ],
   "source": [
    "train.head(12)"
   ]
  },
  {
   "cell_type": "code",
   "execution_count": 156,
   "id": "b4588914",
   "metadata": {},
   "outputs": [
    {
     "data": {
      "text/html": [
       "<div>\n",
       "<style scoped>\n",
       "    .dataframe tbody tr th:only-of-type {\n",
       "        vertical-align: middle;\n",
       "    }\n",
       "\n",
       "    .dataframe tbody tr th {\n",
       "        vertical-align: top;\n",
       "    }\n",
       "\n",
       "    .dataframe thead th {\n",
       "        text-align: right;\n",
       "    }\n",
       "</style>\n",
       "<table border=\"1\" class=\"dataframe\">\n",
       "  <thead>\n",
       "    <tr style=\"text-align: right;\">\n",
       "      <th></th>\n",
       "      <th>time</th>\n",
       "      <th>degrees</th>\n",
       "    </tr>\n",
       "  </thead>\n",
       "  <tbody>\n",
       "    <tr>\n",
       "      <th>0</th>\n",
       "      <td>2022-09-13</td>\n",
       "      <td>80.500000</td>\n",
       "    </tr>\n",
       "    <tr>\n",
       "      <th>1</th>\n",
       "      <td>2022-09-14</td>\n",
       "      <td>78.000000</td>\n",
       "    </tr>\n",
       "    <tr>\n",
       "      <th>2</th>\n",
       "      <td>2022-09-15</td>\n",
       "      <td>79.791667</td>\n",
       "    </tr>\n",
       "  </tbody>\n",
       "</table>\n",
       "</div>"
      ],
      "text/plain": [
       "         time    degrees\n",
       "0  2022-09-13  80.500000\n",
       "1  2022-09-14  78.000000\n",
       "2  2022-09-15  79.791667"
      ]
     },
     "execution_count": 156,
     "metadata": {},
     "output_type": "execute_result"
    }
   ],
   "source": [
    "test.head(3)"
   ]
  },
  {
   "cell_type": "code",
   "execution_count": 157,
   "id": "4585f32a",
   "metadata": {},
   "outputs": [],
   "source": [
    "df_ts = TimeSeriesData(train)"
   ]
  },
  {
   "cell_type": "code",
   "execution_count": 158,
   "id": "5543887e",
   "metadata": {},
   "outputs": [
    {
     "data": {
      "text/html": [
       "<div>\n",
       "<style scoped>\n",
       "    .dataframe tbody tr th:only-of-type {\n",
       "        vertical-align: middle;\n",
       "    }\n",
       "\n",
       "    .dataframe tbody tr th {\n",
       "        vertical-align: top;\n",
       "    }\n",
       "\n",
       "    .dataframe thead th {\n",
       "        text-align: right;\n",
       "    }\n",
       "</style>\n",
       "<table border=\"1\" class=\"dataframe\">\n",
       "  <thead>\n",
       "    <tr style=\"text-align: right;\">\n",
       "      <th></th>\n",
       "      <th>time</th>\n",
       "      <th>degrees</th>\n",
       "    </tr>\n",
       "  </thead>\n",
       "  <tbody>\n",
       "    <tr>\n",
       "      <th>0</th>\n",
       "      <td>2022-09-01</td>\n",
       "      <td>81.500000</td>\n",
       "    </tr>\n",
       "    <tr>\n",
       "      <th>1</th>\n",
       "      <td>2022-09-02</td>\n",
       "      <td>80.416667</td>\n",
       "    </tr>\n",
       "    <tr>\n",
       "      <th>2</th>\n",
       "      <td>2022-09-03</td>\n",
       "      <td>78.916667</td>\n",
       "    </tr>\n",
       "    <tr>\n",
       "      <th>3</th>\n",
       "      <td>2022-09-04</td>\n",
       "      <td>79.833333</td>\n",
       "    </tr>\n",
       "    <tr>\n",
       "      <th>4</th>\n",
       "      <td>2022-09-05</td>\n",
       "      <td>77.625000</td>\n",
       "    </tr>\n",
       "    <tr>\n",
       "      <th>5</th>\n",
       "      <td>2022-09-06</td>\n",
       "      <td>81.208333</td>\n",
       "    </tr>\n",
       "    <tr>\n",
       "      <th>6</th>\n",
       "      <td>2022-09-07</td>\n",
       "      <td>80.791667</td>\n",
       "    </tr>\n",
       "    <tr>\n",
       "      <th>7</th>\n",
       "      <td>2022-09-08</td>\n",
       "      <td>79.416667</td>\n",
       "    </tr>\n",
       "    <tr>\n",
       "      <th>8</th>\n",
       "      <td>2022-09-09</td>\n",
       "      <td>80.250000</td>\n",
       "    </tr>\n",
       "    <tr>\n",
       "      <th>9</th>\n",
       "      <td>2022-09-10</td>\n",
       "      <td>79.083333</td>\n",
       "    </tr>\n",
       "    <tr>\n",
       "      <th>10</th>\n",
       "      <td>2022-09-11</td>\n",
       "      <td>81.458333</td>\n",
       "    </tr>\n",
       "    <tr>\n",
       "      <th>11</th>\n",
       "      <td>2022-09-12</td>\n",
       "      <td>78.583333</td>\n",
       "    </tr>\n",
       "  </tbody>\n",
       "</table>\n",
       "</div>"
      ],
      "text/plain": [
       "         time    degrees\n",
       "0  2022-09-01  81.500000\n",
       "1  2022-09-02  80.416667\n",
       "2  2022-09-03  78.916667\n",
       "3  2022-09-04  79.833333\n",
       "4  2022-09-05  77.625000\n",
       "5  2022-09-06  81.208333\n",
       "6  2022-09-07  80.791667\n",
       "7  2022-09-08  79.416667\n",
       "8  2022-09-09  80.250000\n",
       "9  2022-09-10  79.083333\n",
       "10 2022-09-11  81.458333\n",
       "11 2022-09-12  78.583333"
      ]
     },
     "execution_count": 158,
     "metadata": {},
     "output_type": "execute_result"
    }
   ],
   "source": [
    "df_ts"
   ]
  },
  {
   "cell_type": "markdown",
   "id": "95cda76c",
   "metadata": {},
   "source": [
    "## Step Five:\n",
    "Load model and create forecast. "
   ]
  },
  {
   "cell_type": "code",
   "execution_count": 159,
   "id": "13a277fa",
   "metadata": {},
   "outputs": [
    {
     "data": {
      "text/plain": [
       "<kats.models.globalmodel.ensemble.GMEnsemble at 0x7fe220639190>"
      ]
     },
     "execution_count": 159,
     "metadata": {},
     "output_type": "execute_result"
    }
   ],
   "source": [
    "gme_rnn = load_gmensemble_from_file(\"models/pretrained_daily_rnn.p\")\n",
    "gme_rnn"
   ]
  },
  {
   "cell_type": "code",
   "execution_count": 160,
   "id": "d6dc27ef",
   "metadata": {},
   "outputs": [],
   "source": [
    "fcsts = gme_rnn.predict(df_ts, steps = 3)"
   ]
  },
  {
   "cell_type": "code",
   "execution_count": 161,
   "id": "41977af9",
   "metadata": {},
   "outputs": [
    {
     "data": {
      "text/html": [
       "<div>\n",
       "<style scoped>\n",
       "    .dataframe tbody tr th:only-of-type {\n",
       "        vertical-align: middle;\n",
       "    }\n",
       "\n",
       "    .dataframe tbody tr th {\n",
       "        vertical-align: top;\n",
       "    }\n",
       "\n",
       "    .dataframe thead th {\n",
       "        text-align: right;\n",
       "    }\n",
       "</style>\n",
       "<table border=\"1\" class=\"dataframe\">\n",
       "  <thead>\n",
       "    <tr style=\"text-align: right;\">\n",
       "      <th></th>\n",
       "      <th>fcst_quantile_0.5</th>\n",
       "      <th>fcst_quantile_0.01</th>\n",
       "      <th>fcst_quantile_0.05</th>\n",
       "      <th>fcst_quantile_0.95</th>\n",
       "      <th>fcst_quantile_0.99</th>\n",
       "      <th>time</th>\n",
       "    </tr>\n",
       "  </thead>\n",
       "  <tbody>\n",
       "    <tr>\n",
       "      <th>0</th>\n",
       "      <td>82.338249</td>\n",
       "      <td>79.717224</td>\n",
       "      <td>80.777687</td>\n",
       "      <td>83.747787</td>\n",
       "      <td>84.841911</td>\n",
       "      <td>2022-09-13</td>\n",
       "    </tr>\n",
       "    <tr>\n",
       "      <th>1</th>\n",
       "      <td>82.017944</td>\n",
       "      <td>78.254982</td>\n",
       "      <td>79.705215</td>\n",
       "      <td>84.020134</td>\n",
       "      <td>85.198349</td>\n",
       "      <td>2022-09-14</td>\n",
       "    </tr>\n",
       "    <tr>\n",
       "      <th>2</th>\n",
       "      <td>82.624687</td>\n",
       "      <td>78.016602</td>\n",
       "      <td>79.776276</td>\n",
       "      <td>84.994812</td>\n",
       "      <td>86.624702</td>\n",
       "      <td>2022-09-15</td>\n",
       "    </tr>\n",
       "  </tbody>\n",
       "</table>\n",
       "</div>"
      ],
      "text/plain": [
       "   fcst_quantile_0.5  fcst_quantile_0.01  fcst_quantile_0.05  \\\n",
       "0          82.338249           79.717224           80.777687   \n",
       "1          82.017944           78.254982           79.705215   \n",
       "2          82.624687           78.016602           79.776276   \n",
       "\n",
       "   fcst_quantile_0.95  fcst_quantile_0.99       time  \n",
       "0           83.747787           84.841911 2022-09-13  \n",
       "1           84.020134           85.198349 2022-09-14  \n",
       "2           84.994812           86.624702 2022-09-15  "
      ]
     },
     "execution_count": 161,
     "metadata": {},
     "output_type": "execute_result"
    }
   ],
   "source": [
    "fcsts_df = list(fcsts.items())[0][1]\n",
    "fcsts_df"
   ]
  },
  {
   "cell_type": "code",
   "execution_count": 162,
   "id": "955d0261",
   "metadata": {},
   "outputs": [
    {
     "data": {
      "text/plain": [
       "<AxesSubplot:xlabel='time'>"
      ]
     },
     "execution_count": 162,
     "metadata": {},
     "output_type": "execute_result"
    },
    {
     "data": {
      "image/png": "[encoded data removed]",
      "text/plain": [
       "<Figure size 432x288 with 1 Axes>"
      ]
     },
     "metadata": {
      "needs_background": "light"
     },
     "output_type": "display_data"
    }
   ],
   "source": [
    "fcsts_df = fcsts_df.join(test[\"degrees\"])\n",
    "fcsts_df.head()\n",
    "fcsts_df_plot = fcsts_df.set_index('time')\n",
    "fcsts_df_plot.plot()"
   ]
  },
  {
   "cell_type": "code",
   "execution_count": 163,
   "id": "b4d507ad",
   "metadata": {},
   "outputs": [
    {
     "data": {
      "text/html": [
       "<div>\n",
       "<style scoped>\n",
       "    .dataframe tbody tr th:only-of-type {\n",
       "        vertical-align: middle;\n",
       "    }\n",
       "\n",
       "    .dataframe tbody tr th {\n",
       "        vertical-align: top;\n",
       "    }\n",
       "\n",
       "    .dataframe thead th {\n",
       "        text-align: right;\n",
       "    }\n",
       "</style>\n",
       "<table border=\"1\" class=\"dataframe\">\n",
       "  <thead>\n",
       "    <tr style=\"text-align: right;\">\n",
       "      <th></th>\n",
       "      <th>fcst_quantile_0.5</th>\n",
       "      <th>time</th>\n",
       "      <th>location</th>\n",
       "    </tr>\n",
       "  </thead>\n",
       "  <tbody>\n",
       "    <tr>\n",
       "      <th>0</th>\n",
       "      <td>82.338249</td>\n",
       "      <td>2022-09-13</td>\n",
       "      <td>coyote_creek</td>\n",
       "    </tr>\n",
       "    <tr>\n",
       "      <th>1</th>\n",
       "      <td>82.017944</td>\n",
       "      <td>2022-09-14</td>\n",
       "      <td>coyote_creek</td>\n",
       "    </tr>\n",
       "    <tr>\n",
       "      <th>2</th>\n",
       "      <td>82.624687</td>\n",
       "      <td>2022-09-15</td>\n",
       "      <td>coyote_creek</td>\n",
       "    </tr>\n",
       "  </tbody>\n",
       "</table>\n",
       "</div>"
      ],
      "text/plain": [
       "   fcst_quantile_0.5       time      location\n",
       "0          82.338249 2022-09-13  coyote_creek\n",
       "1          82.017944 2022-09-14  coyote_creek\n",
       "2          82.624687 2022-09-15  coyote_creek"
      ]
     },
     "execution_count": 163,
     "metadata": {},
     "output_type": "execute_result"
    }
   ],
   "source": [
    "fcsts_df = fcsts_df[['fcst_quantile_0.5', 'time']]\n",
    "fcsts_df['location'] = \"coyote_creek\"\n",
    "fcsts_df"
   ]
  },
  {
   "cell_type": "markdown",
   "id": "6fe9d526",
   "metadata": {},
   "source": [
    "## Step Six:\n",
    "Write data with the client library. "
   ]
  },
  {
   "cell_type": "code",
   "execution_count": 164,
   "id": "3044217f",
   "metadata": {},
   "outputs": [],
   "source": [
    "write_api.write(bucket=\"test_bucket_from_python\",\n",
    "               record=fcsts_df,\n",
    "               data_frame_measurement_name=\"forecast\",\n",
    "               data_frame_tag_columns=[\"location\"],\n",
    "               data_frame_timestamp_column=\"time\")"
   ]
  },
  {
   "cell_type": "code",
   "execution_count": 169,
   "id": "cb0a97b9",
   "metadata": {},
   "outputs": [
    {
     "data": {
      "text/html": [
       "<div>\n",
       "<style scoped>\n",
       "    .dataframe tbody tr th:only-of-type {\n",
       "        vertical-align: middle;\n",
       "    }\n",
       "\n",
       "    .dataframe tbody tr th {\n",
       "        vertical-align: top;\n",
       "    }\n",
       "\n",
       "    .dataframe thead th {\n",
       "        text-align: right;\n",
       "    }\n",
       "</style>\n",
       "<table border=\"1\" class=\"dataframe\">\n",
       "  <thead>\n",
       "    <tr style=\"text-align: right;\">\n",
       "      <th></th>\n",
       "      <th>time</th>\n",
       "      <th>fcst_quantile_0.5</th>\n",
       "    </tr>\n",
       "  </thead>\n",
       "  <tbody>\n",
       "    <tr>\n",
       "      <th>0</th>\n",
       "      <td>2022-09-14 00:00:00+00:00</td>\n",
       "      <td>82.338249</td>\n",
       "    </tr>\n",
       "    <tr>\n",
       "      <th>1</th>\n",
       "      <td>2022-09-15 00:00:00+00:00</td>\n",
       "      <td>82.017944</td>\n",
       "    </tr>\n",
       "    <tr>\n",
       "      <th>2</th>\n",
       "      <td>2022-09-16 00:00:00+00:00</td>\n",
       "      <td>82.624687</td>\n",
       "    </tr>\n",
       "    <tr>\n",
       "      <th>3</th>\n",
       "      <td>2022-09-29 00:00:00+00:00</td>\n",
       "      <td>80.704765</td>\n",
       "    </tr>\n",
       "    <tr>\n",
       "      <th>4</th>\n",
       "      <td>2022-09-30 00:00:00+00:00</td>\n",
       "      <td>81.536484</td>\n",
       "    </tr>\n",
       "  </tbody>\n",
       "</table>\n",
       "</div>"
      ],
      "text/plain": [
       "                       time  fcst_quantile_0.5\n",
       "0 2022-09-14 00:00:00+00:00          82.338249\n",
       "1 2022-09-15 00:00:00+00:00          82.017944\n",
       "2 2022-09-16 00:00:00+00:00          82.624687\n",
       "3 2022-09-29 00:00:00+00:00          80.704765\n",
       "4 2022-09-30 00:00:00+00:00          81.536484"
      ]
     },
     "execution_count": 169,
     "metadata": {},
     "output_type": "execute_result"
    }
   ],
   "source": [
    "dff = query_api.query_data_frame('from(bucket: \"test_bucket_from_python\")'\n",
    "  '|> range(start: -30d)'\n",
    "  '|> filter(fn: (r) => r[\"_measurement\"] == \"forecast\")'\n",
    "  '|> filter(fn: (r) => r[\"_field\"] == \"fcst_quantile_0.5\")'\n",
    "  '|> filter(fn: (r) => r[\"location\"] == \"coyote_creek\")'\n",
    "  '|> aggregateWindow(every: 1d, fn: mean, createEmpty: false)'\n",
    "  '|> pivot(rowKey:[\"_time\"], columnKey: [\"_field\"], valueColumn: \"_value\")'\n",
    "  '|> keep(columns:[\"_time\",\"fcst_quantile_0.5\"])')\n",
    "dff = dff.copy()\n",
    "dff = dff.drop(columns=['result', 'table'])\n",
    "dff = dff.rename(columns={\"_time\": \"time\"})\n",
    "dff.head()"
   ]
  },
  {
   "cell_type": "code",
   "execution_count": 167,
   "id": "92c8191c",
   "metadata": {},
   "outputs": [
    {
     "data": {
      "text/html": [
       "<div>\n",
       "<style scoped>\n",
       "    .dataframe tbody tr th:only-of-type {\n",
       "        vertical-align: middle;\n",
       "    }\n",
       "\n",
       "    .dataframe tbody tr th {\n",
       "        vertical-align: top;\n",
       "    }\n",
       "\n",
       "    .dataframe thead th {\n",
       "        text-align: right;\n",
       "    }\n",
       "</style>\n",
       "<table border=\"1\" class=\"dataframe\">\n",
       "  <thead>\n",
       "    <tr style=\"text-align: right;\">\n",
       "      <th></th>\n",
       "      <th>time</th>\n",
       "      <th>degrees</th>\n",
       "    </tr>\n",
       "  </thead>\n",
       "  <tbody>\n",
       "    <tr>\n",
       "      <th>0</th>\n",
       "      <td>2022-09-01 00:00:00+00:00</td>\n",
       "      <td>81.500000</td>\n",
       "    </tr>\n",
       "    <tr>\n",
       "      <th>1</th>\n",
       "      <td>2022-09-02 00:00:00+00:00</td>\n",
       "      <td>80.416667</td>\n",
       "    </tr>\n",
       "    <tr>\n",
       "      <th>2</th>\n",
       "      <td>2022-09-03 00:00:00+00:00</td>\n",
       "      <td>78.916667</td>\n",
       "    </tr>\n",
       "    <tr>\n",
       "      <th>3</th>\n",
       "      <td>2022-09-04 00:00:00+00:00</td>\n",
       "      <td>79.833333</td>\n",
       "    </tr>\n",
       "    <tr>\n",
       "      <th>4</th>\n",
       "      <td>2022-09-05 00:00:00+00:00</td>\n",
       "      <td>77.625000</td>\n",
       "    </tr>\n",
       "  </tbody>\n",
       "</table>\n",
       "</div>"
      ],
      "text/plain": [
       "                       time    degrees\n",
       "0 2022-09-01 00:00:00+00:00  81.500000\n",
       "1 2022-09-02 00:00:00+00:00  80.416667\n",
       "2 2022-09-03 00:00:00+00:00  78.916667\n",
       "3 2022-09-04 00:00:00+00:00  79.833333\n",
       "4 2022-09-05 00:00:00+00:00  77.625000"
      ]
     },
     "execution_count": 167,
     "metadata": {},
     "output_type": "execute_result"
    }
   ],
   "source": [
    "dfm = query_api.query_data_frame('from(bucket: \"test_bucket_from_python\")'\n",
    "  '|> range(start: -30d)'\n",
    "  '|> filter(fn: (r) => r[\"_measurement\"] == \"average_temperature\")'\n",
    "  '|> filter(fn: (r) => r[\"_field\"] == \"degrees\")'\n",
    "  '|> filter(fn: (r) => r[\"location\"] == \"coyote_creek\")'\n",
    "  '|> aggregateWindow(every: 1d, fn: mean, createEmpty: false)'\n",
    "  '|> pivot(rowKey:[\"_time\"], columnKey: [\"_field\"], valueColumn: \"_value\")'\n",
    "  '|> keep(columns:[\"_time\",\"degrees\"])')\n",
    "dfm = dfm.copy()\n",
    "dfm = dfm.drop(columns=['result', 'table'])\n",
    "dfm = dfm.rename(columns={\"_time\": \"time\"})\n",
    "dfm.head()"
   ]
  },
  {
   "cell_type": "code",
   "execution_count": 174,
   "id": "c66ddda8",
   "metadata": {},
   "outputs": [
    {
     "data": {
      "text/html": [
       "<div>\n",
       "<style scoped>\n",
       "    .dataframe tbody tr th:only-of-type {\n",
       "        vertical-align: middle;\n",
       "    }\n",
       "\n",
       "    .dataframe tbody tr th {\n",
       "        vertical-align: top;\n",
       "    }\n",
       "\n",
       "    .dataframe thead th {\n",
       "        text-align: right;\n",
       "    }\n",
       "</style>\n",
       "<table border=\"1\" class=\"dataframe\">\n",
       "  <thead>\n",
       "    <tr style=\"text-align: right;\">\n",
       "      <th></th>\n",
       "      <th>time</th>\n",
       "      <th>fcst_quantile_0.5</th>\n",
       "      <th>time</th>\n",
       "      <th>degrees</th>\n",
       "    </tr>\n",
       "  </thead>\n",
       "  <tbody>\n",
       "    <tr>\n",
       "      <th>0</th>\n",
       "      <td>2022-09-14 00:00:00+00:00</td>\n",
       "      <td>82.338249</td>\n",
       "      <td>2022-09-01 00:00:00+00:00</td>\n",
       "      <td>81.500000</td>\n",
       "    </tr>\n",
       "    <tr>\n",
       "      <th>1</th>\n",
       "      <td>2022-09-15 00:00:00+00:00</td>\n",
       "      <td>82.017944</td>\n",
       "      <td>2022-09-02 00:00:00+00:00</td>\n",
       "      <td>80.416667</td>\n",
       "    </tr>\n",
       "    <tr>\n",
       "      <th>2</th>\n",
       "      <td>2022-09-16 00:00:00+00:00</td>\n",
       "      <td>82.624687</td>\n",
       "      <td>2022-09-03 00:00:00+00:00</td>\n",
       "      <td>78.916667</td>\n",
       "    </tr>\n",
       "    <tr>\n",
       "      <th>3</th>\n",
       "      <td>2022-09-29 00:00:00+00:00</td>\n",
       "      <td>80.704765</td>\n",
       "      <td>2022-09-04 00:00:00+00:00</td>\n",
       "      <td>79.833333</td>\n",
       "    </tr>\n",
       "    <tr>\n",
       "      <th>4</th>\n",
       "      <td>2022-09-30 00:00:00+00:00</td>\n",
       "      <td>81.536484</td>\n",
       "      <td>2022-09-05 00:00:00+00:00</td>\n",
       "      <td>77.625000</td>\n",
       "    </tr>\n",
       "    <tr>\n",
       "      <th>5</th>\n",
       "      <td>2022-09-30 18:33:30.812452+00:00</td>\n",
       "      <td>80.623299</td>\n",
       "      <td>2022-09-06 00:00:00+00:00</td>\n",
       "      <td>81.208333</td>\n",
       "    </tr>\n",
       "  </tbody>\n",
       "</table>\n",
       "</div>"
      ],
      "text/plain": [
       "                              time  fcst_quantile_0.5  \\\n",
       "0        2022-09-14 00:00:00+00:00          82.338249   \n",
       "1        2022-09-15 00:00:00+00:00          82.017944   \n",
       "2        2022-09-16 00:00:00+00:00          82.624687   \n",
       "3        2022-09-29 00:00:00+00:00          80.704765   \n",
       "4        2022-09-30 00:00:00+00:00          81.536484   \n",
       "5 2022-09-30 18:33:30.812452+00:00          80.623299   \n",
       "\n",
       "                       time    degrees  \n",
       "0 2022-09-01 00:00:00+00:00  81.500000  \n",
       "1 2022-09-02 00:00:00+00:00  80.416667  \n",
       "2 2022-09-03 00:00:00+00:00  78.916667  \n",
       "3 2022-09-04 00:00:00+00:00  79.833333  \n",
       "4 2022-09-05 00:00:00+00:00  77.625000  \n",
       "5 2022-09-06 00:00:00+00:00  81.208333  "
      ]
     },
     "execution_count": 174,
     "metadata": {},
     "output_type": "execute_result"
    }
   ],
   "source": [
    "df = pd.concat([dff, dfm], axis=1, join=\"inner\")\n",
    "df"
   ]
  },
  {
   "cell_type": "code",
   "execution_count": 175,
   "id": "0a8877f5",
   "metadata": {},
   "outputs": [
    {
     "data": {
      "text/plain": [
       "<AxesSubplot:xlabel='time'>"
      ]
     },
     "execution_count": 175,
     "metadata": {},
     "output_type": "execute_result"
    },
    {
     "data": {
      "image/png": "[encoded data removed]",
      "text/plain": [
       "<Figure size 432x288 with 1 Axes>"
      ]
     },
     "metadata": {
      "needs_background": "light"
     },
     "output_type": "display_data"
    }
   ],
   "source": [
    "df_plot = df.set_index('time')\n",
    "df_plot.plot()"
   ]
  },
  {
   "cell_type": "markdown",
   "id": "4b2421fc",
   "metadata": {},
   "source": [
    "<br><br><br><br><br><br><br><br><br><br><br><br><br><br><br><br><br>\n",
    "### Write dataframe to bucket with data_frame_tag_columns=[\"location\"]"
   ]
  },
  {
   "cell_type": "code",
   "execution_count": 111,
   "id": "5699655f",
   "metadata": {},
   "outputs": [],
   "source": [
    "data = {'temperature': [10, 11, 12], \n",
    "         'time': pd.to_datetime([\"2022-09-25\", \"2022-09-26\", \"2022-09-27\"]), \n",
    "         'location': [\"coyote_creek\", \"coyote_creek\", \"coyote_creek\"]}"
   ]
  },
  {
   "cell_type": "code",
   "execution_count": 112,
   "id": "16a68326",
   "metadata": {},
   "outputs": [
    {
     "data": {
      "text/html": [
       "<div>\n",
       "<style scoped>\n",
       "    .dataframe tbody tr th:only-of-type {\n",
       "        vertical-align: middle;\n",
       "    }\n",
       "\n",
       "    .dataframe tbody tr th {\n",
       "        vertical-align: top;\n",
       "    }\n",
       "\n",
       "    .dataframe thead th {\n",
       "        text-align: right;\n",
       "    }\n",
       "</style>\n",
       "<table border=\"1\" class=\"dataframe\">\n",
       "  <thead>\n",
       "    <tr style=\"text-align: right;\">\n",
       "      <th></th>\n",
       "      <th>temperature</th>\n",
       "      <th>time</th>\n",
       "      <th>location</th>\n",
       "    </tr>\n",
       "  </thead>\n",
       "  <tbody>\n",
       "    <tr>\n",
       "      <th>0</th>\n",
       "      <td>10</td>\n",
       "      <td>2022-09-25</td>\n",
       "      <td>coyote_creek</td>\n",
       "    </tr>\n",
       "    <tr>\n",
       "      <th>1</th>\n",
       "      <td>11</td>\n",
       "      <td>2022-09-26</td>\n",
       "      <td>coyote_creek</td>\n",
       "    </tr>\n",
       "    <tr>\n",
       "      <th>2</th>\n",
       "      <td>12</td>\n",
       "      <td>2022-09-27</td>\n",
       "      <td>coyote_creek</td>\n",
       "    </tr>\n",
       "  </tbody>\n",
       "</table>\n",
       "</div>"
      ],
      "text/plain": [
       "   temperature       time      location\n",
       "0           10 2022-09-25  coyote_creek\n",
       "1           11 2022-09-26  coyote_creek\n",
       "2           12 2022-09-27  coyote_creek"
      ]
     },
     "execution_count": 112,
     "metadata": {},
     "output_type": "execute_result"
    }
   ],
   "source": [
    "df=pd.DataFrame(data)\n",
    "df"
   ]
  },
  {
   "cell_type": "code",
   "execution_count": 113,
   "id": "9b2fdff7",
   "metadata": {},
   "outputs": [],
   "source": [
    "write_api.write(bucket=\"test_bucket_from_python\",\n",
    "               record=df,\n",
    "               data_frame_measurement_name=\"test\",\n",
    "               data_frame_tag_columns=[\"location\"],\n",
    "               data_frame_timestamp_column=\"time\")"
   ]
  },
  {
   "cell_type": "code",
   "execution_count": 114,
   "id": "95102b48",
   "metadata": {},
   "outputs": [
    {
     "data": {
      "text/html": [
       "<div>\n",
       "<style scoped>\n",
       "    .dataframe tbody tr th:only-of-type {\n",
       "        vertical-align: middle;\n",
       "    }\n",
       "\n",
       "    .dataframe tbody tr th {\n",
       "        vertical-align: top;\n",
       "    }\n",
       "\n",
       "    .dataframe thead th {\n",
       "        text-align: right;\n",
       "    }\n",
       "</style>\n",
       "<table border=\"1\" class=\"dataframe\">\n",
       "  <thead>\n",
       "    <tr style=\"text-align: right;\">\n",
       "      <th></th>\n",
       "      <th>time</th>\n",
       "      <th>location</th>\n",
       "      <th>temperature</th>\n",
       "    </tr>\n",
       "  </thead>\n",
       "  <tbody>\n",
       "    <tr>\n",
       "      <th>0</th>\n",
       "      <td>2022-09-26 00:00:00+00:00</td>\n",
       "      <td>coyote_creek</td>\n",
       "      <td>10.0</td>\n",
       "    </tr>\n",
       "    <tr>\n",
       "      <th>1</th>\n",
       "      <td>2022-09-27 00:00:00+00:00</td>\n",
       "      <td>coyote_creek</td>\n",
       "      <td>11.0</td>\n",
       "    </tr>\n",
       "    <tr>\n",
       "      <th>2</th>\n",
       "      <td>2022-09-28 00:00:00+00:00</td>\n",
       "      <td>coyote_creek</td>\n",
       "      <td>12.0</td>\n",
       "    </tr>\n",
       "    <tr>\n",
       "      <th>3</th>\n",
       "      <td>2022-09-29 00:00:00+00:00</td>\n",
       "      <td>coyote_creek</td>\n",
       "      <td>10.0</td>\n",
       "    </tr>\n",
       "    <tr>\n",
       "      <th>4</th>\n",
       "      <td>2022-09-30 00:00:00+00:00</td>\n",
       "      <td>coyote_creek</td>\n",
       "      <td>11.0</td>\n",
       "    </tr>\n",
       "  </tbody>\n",
       "</table>\n",
       "</div>"
      ],
      "text/plain": [
       "                       time      location  temperature\n",
       "0 2022-09-26 00:00:00+00:00  coyote_creek         10.0\n",
       "1 2022-09-27 00:00:00+00:00  coyote_creek         11.0\n",
       "2 2022-09-28 00:00:00+00:00  coyote_creek         12.0\n",
       "3 2022-09-29 00:00:00+00:00  coyote_creek         10.0\n",
       "4 2022-09-30 00:00:00+00:00  coyote_creek         11.0"
      ]
     },
     "execution_count": 114,
     "metadata": {},
     "output_type": "execute_result"
    }
   ],
   "source": [
    "df = query_api.query_data_frame('from(bucket: \"test_bucket_from_python\")'\n",
    "  '|> range(start: -6d)'\n",
    "  '|> filter(fn: (r) => r[\"_measurement\"] == \"test\")'\n",
    "  '|> filter(fn: (r) => r[\"_field\"] == \"temperature\")'\n",
    "  '|> filter(fn: (r) => r[\"location\"] == \"coyote_creek\")'\n",
    "  '|> aggregateWindow(every: 1d, fn: mean, createEmpty: false)'\n",
    "  '|> pivot(rowKey:[\"_time\"], columnKey: [\"_field\"], valueColumn: \"_value\")'\n",
    "  '|> keep(columns:[\"_time\",\"temperature\", \"location\"])')\n",
    "df = df.copy()\n",
    "df = df.drop(columns=['result', 'table'])\n",
    "df = df.rename(columns={\"_time\": \"time\"})\n",
    "df.head()"
   ]
  },
  {
   "cell_type": "code",
   "execution_count": null,
   "id": "c7c97011",
   "metadata": {},
   "outputs": [],
   "source": []
  }
 ],
 "metadata": {
  "kernelspec": {
   "display_name": "Python [conda env:root] *",
   "language": "python",
   "name": "conda-root-py"
  },
  "language_info": {
   "codemirror_mode": {
    "name": "ipython",
    "version": 3
   },
   "file_extension": ".py",
   "mimetype": "text/x-python",
   "name": "python",
   "nbconvert_exporter": "python",
   "pygments_lexer": "ipython3",
   "version": "3.7.6"
  }
 },
 "nbformat": 4,
 "nbformat_minor": 5
}
