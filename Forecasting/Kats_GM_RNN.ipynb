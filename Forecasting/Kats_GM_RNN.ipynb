{
 "cells": [
  {
   "cell_type": "markdown",
   "id": "8a798926",
   "metadata": {},
   "source": [
    "# KATS GM-RNN\n",
    "\n",
    "Learn how to make a forecast on the NOAA sample dataset with the pretrained GM-RNN model from Kats. "
   ]
  },
  {
   "cell_type": "markdown",
   "id": "1572808c",
   "metadata": {},
   "source": [
    "## Step One: \n",
    "Import Dependencies"
   ]
  },
  {
   "cell_type": "code",
   "execution_count": 2,
   "id": "26af33f5",
   "metadata": {},
   "outputs": [],
   "source": [
    "import pandas as pd\n",
    "import numpy as np\n",
    "import warnings\n",
    "from sklearn.model_selection import train_test_split\n",
    "from influxdb_client import InfluxDBClient\n",
    "from influxdb_client.client.write_api import SYNCHRONOUS\n",
    "from kats.consts import TimeSeriesData\n",
    "\n",
    "from kats.models.sarima import SARIMAModel, SARIMAParams\n",
    "import kats.utils.time_series_parameter_tuning as tpt\n",
    "from kats.consts import ModelEnum, SearchMethodEnum, TimeSeriesData\n",
    "from kats.models.arima import ARIMAParams, ARIMAModel\n",
    "from kats.models.globalmodel.ensemble import GMEnsemble, load_gmensemble_from_file\n",
    "\n",
    "from ax.core.parameter import ChoiceParameter, FixedParameter, ParameterType\n",
    "from ax.models.random.sobol import SobolGenerator\n",
    "from ax.models.random.uniform import UniformGenerator\n",
    "warnings.simplefilter(action='ignore')\n"
   ]
  },
  {
   "cell_type": "markdown",
   "id": "4b1f96a4",
   "metadata": {},
   "source": [
    "## Step Two:\n",
    "Instantiate the Python Client Libary and build the Flux query. \n"
   ]
  },
  {
   "cell_type": "code",
   "execution_count": 13,
   "id": "0c2c1f21",
   "metadata": {},
   "outputs": [],
   "source": [
    "url = 'https://us-west-2-1.aws.cloud2.influxdata.com'\n",
    "token = '_rYKOuK2s2ApuhexKtVIIf0ERdHOY7TyfSN2X4AeJEuv47HzH8YX4o1xrF0OPS6ngigLNWOlt20jIzGZWe86HA=='\n",
    "org = '03dd0439a8172000'\n",
    "bucket = 'noaa'\n",
    "\n",
    "client = InfluxDBClient(url=\"https://us-west-2-1.aws.cloud2.influxdata.com/\", token=token, org=org)\n",
    "write_api = client.write_api(write_options=SYNCHRONOUS)\n",
    "query_api = client.query_api()"
   ]
  },
  {
   "cell_type": "code",
   "execution_count": 14,
   "id": "9020dc0a",
   "metadata": {},
   "outputs": [],
   "source": [
    "df = query_api.query_data_frame('from(bucket: \"noaa\")'\n",
    "  '|> range(start: -100d)'\n",
    "  '|> filter(fn: (r) => r[\"_measurement\"] == \"average_temperature\")'\n",
    "  '|> filter(fn: (r) => r[\"_field\"] == \"degrees\")'\n",
    "  '|> filter(fn: (r) => r[\"location\"] == \"coyote_creek\")'\n",
    "  '|> aggregateWindow(every: 1d, fn: mean, createEmpty: false)'\n",
    "  '|> pivot(rowKey:[\"_time\"], columnKey: [\"_field\"], valueColumn: \"_value\")'\n",
    "  '|> keep(columns:[\"_time\",\"degrees\"])')"
   ]
  },
  {
   "cell_type": "code",
   "execution_count": 15,
   "id": "e53d6dbe",
   "metadata": {},
   "outputs": [
    {
     "data": {
      "text/html": [
       "<div>\n",
       "<style scoped>\n",
       "    .dataframe tbody tr th:only-of-type {\n",
       "        vertical-align: middle;\n",
       "    }\n",
       "\n",
       "    .dataframe tbody tr th {\n",
       "        vertical-align: top;\n",
       "    }\n",
       "\n",
       "    .dataframe thead th {\n",
       "        text-align: right;\n",
       "    }\n",
       "</style>\n",
       "<table border=\"1\" class=\"dataframe\">\n",
       "  <thead>\n",
       "    <tr style=\"text-align: right;\">\n",
       "      <th></th>\n",
       "      <th>time</th>\n",
       "      <th>degrees</th>\n",
       "    </tr>\n",
       "  </thead>\n",
       "  <tbody>\n",
       "    <tr>\n",
       "      <th>0</th>\n",
       "      <td>2022-09-27 00:00:00+00:00</td>\n",
       "      <td>79.982628</td>\n",
       "    </tr>\n",
       "    <tr>\n",
       "      <th>1</th>\n",
       "      <td>2022-09-28 00:00:00+00:00</td>\n",
       "      <td>79.853125</td>\n",
       "    </tr>\n",
       "    <tr>\n",
       "      <th>2</th>\n",
       "      <td>2022-09-29 00:00:00+00:00</td>\n",
       "      <td>79.308333</td>\n",
       "    </tr>\n",
       "    <tr>\n",
       "      <th>3</th>\n",
       "      <td>2022-09-30 00:00:00+00:00</td>\n",
       "      <td>79.886458</td>\n",
       "    </tr>\n",
       "    <tr>\n",
       "      <th>4</th>\n",
       "      <td>2022-09-30 05:14:29.958410+00:00</td>\n",
       "      <td>79.286432</td>\n",
       "    </tr>\n",
       "  </tbody>\n",
       "</table>\n",
       "</div>"
      ],
      "text/plain": [
       "                              time    degrees\n",
       "0        2022-09-27 00:00:00+00:00  79.982628\n",
       "1        2022-09-28 00:00:00+00:00  79.853125\n",
       "2        2022-09-29 00:00:00+00:00  79.308333\n",
       "3        2022-09-30 00:00:00+00:00  79.886458\n",
       "4 2022-09-30 05:14:29.958410+00:00  79.286432"
      ]
     },
     "execution_count": 15,
     "metadata": {},
     "output_type": "execute_result"
    }
   ],
   "source": [
    "df = df.copy()\n",
    "df = df.drop(columns=['result', 'table'])\n",
    "df = df.rename(columns={\"_time\": \"time\"})\n",
    "df.head()"
   ]
  },
  {
   "cell_type": "code",
   "execution_count": 6,
   "id": "9952a467",
   "metadata": {},
   "outputs": [],
   "source": [
    "df_plot = df.set_index('time')"
   ]
  },
  {
   "cell_type": "code",
   "execution_count": 7,
   "id": "a7acf24e",
   "metadata": {},
   "outputs": [
    {
     "data": {
      "text/plain": [
       "<AxesSubplot:xlabel='time'>"
      ]
     },
     "execution_count": 7,
     "metadata": {},
     "output_type": "execute_result"
    },
    {
     "data": {
      "image/png": "[encoded data removed]",
      "text/plain": [
       "<Figure size 432x288 with 1 Axes>"
      ]
     },
     "metadata": {
      "needs_background": "light"
     },
     "output_type": "display_data"
    }
   ],
   "source": [
    "df_plot.plot()"
   ]
  },
  {
   "cell_type": "markdown",
   "id": "49880ed0",
   "metadata": {},
   "source": [
    "## Step Three: \n",
    "Reformat timestamp."
   ]
  },
  {
   "cell_type": "code",
   "execution_count": 8,
   "id": "80f85154",
   "metadata": {},
   "outputs": [],
   "source": [
    "df[\"time\"] = df[\"time\"].apply(lambda x: x.strftime('%Y-%m-%d'))\n",
    "df = df.head(30)"
   ]
  },
  {
   "cell_type": "markdown",
   "id": "d6e215e8",
   "metadata": {},
   "source": [
    "# Step Four: \n",
    "Split into train and test"
   ]
  },
  {
   "cell_type": "code",
   "execution_count": 9,
   "id": "2751409b",
   "metadata": {},
   "outputs": [],
   "source": [
    "train = df.head(27)\n",
    "test = df.tail(3).reset_index(drop=True)"
   ]
  },
  {
   "cell_type": "code",
   "execution_count": 10,
   "id": "a94c2f8e",
   "metadata": {},
   "outputs": [],
   "source": [
    "df_ts = TimeSeriesData(train)"
   ]
  },
  {
   "cell_type": "markdown",
   "id": "ff7f3f60",
   "metadata": {},
   "source": [
    "## Step Five:\n",
    "Load model and create forecast. "
   ]
  },
  {
   "cell_type": "code",
   "execution_count": 11,
   "id": "2bbcf373",
   "metadata": {},
   "outputs": [
    {
     "data": {
      "text/plain": [
       "<kats.models.globalmodel.ensemble.GMEnsemble at 0x7fd596c95d90>"
      ]
     },
     "execution_count": 11,
     "metadata": {},
     "output_type": "execute_result"
    }
   ],
   "source": [
    "gme_rnn = load_gmensemble_from_file(\"models/pretrained_daily_rnn.p\")\n",
    "gme_rnn"
   ]
  },
  {
   "cell_type": "code",
   "execution_count": 12,
   "id": "b9e68c3e",
   "metadata": {},
   "outputs": [
    {
     "name": "stderr",
     "output_type": "stream",
     "text": [
      "ERROR:root:Minimum length of input time series is shorter than seasonality, please pad the time series first or remove it.\n",
      "ERROR:root:Minimum length of input time series is shorter than seasonality, please pad the time series first or remove it.\n",
      "ERROR:root:Minimum length of input time series is shorter than seasonality, please pad the time series first or remove it.\n",
      "ERROR:root:Minimum length of input time series is shorter than seasonality, please pad the time series first or remove it.\n",
      "ERROR:root:Minimum length of input time series is shorter than seasonality, please pad the time series first or remove it.\n",
      "ERROR:root:Minimum length of input time series is shorter than seasonality, please pad the time series first or remove it.\n",
      "ERROR:root:Minimum length of input time series is shorter than seasonality, please pad the time series first or remove it.\n",
      "ERROR:root:Minimum length of input time series is shorter than seasonality, please pad the time series first or remove it.\n",
      "ERROR:root:Minimum length of input time series is shorter than seasonality, please pad the time series first or remove it.\n"
     ]
    },
    {
     "ename": "ValueError",
     "evalue": "Minimum length of input time series is shorter than seasonality, please pad the time series first or remove it.",
     "output_type": "error",
     "traceback": [
      "\u001b[0;31m---------------------------------------------------------------------------\u001b[0m",
      "\u001b[0;31mValueError\u001b[0m                                Traceback (most recent call last)",
      "\u001b[0;32m<ipython-input-12-2a184d50aad8>\u001b[0m in \u001b[0;36m<module>\u001b[0;34m\u001b[0m\n\u001b[0;32m----> 1\u001b[0;31m \u001b[0mfcsts\u001b[0m \u001b[0;34m=\u001b[0m \u001b[0mgme_rnn\u001b[0m\u001b[0;34m.\u001b[0m\u001b[0mpredict\u001b[0m\u001b[0;34m(\u001b[0m\u001b[0mdf_ts\u001b[0m\u001b[0;34m,\u001b[0m \u001b[0msteps\u001b[0m \u001b[0;34m=\u001b[0m \u001b[0;36m3\u001b[0m\u001b[0;34m)\u001b[0m\u001b[0;34m\u001b[0m\u001b[0;34m\u001b[0m\u001b[0m\n\u001b[0m",
      "\u001b[0;32m~/.pythonlibs/jupyter-xingsheng/lib/python3.7/site-packages/kats/models/globalmodel/ensemble.py\u001b[0m in \u001b[0;36mpredict\u001b[0;34m(self, test_TSs, steps, test_batch_size, raw)\u001b[0m\n\u001b[1;32m    313\u001b[0m             all_fcsts = pool.starmap(\n\u001b[1;32m    314\u001b[0m                 \u001b[0mself\u001b[0m\u001b[0;34m.\u001b[0m\u001b[0m_predict_single_gm\u001b[0m\u001b[0;34m,\u001b[0m\u001b[0;34m\u001b[0m\u001b[0;34m\u001b[0m\u001b[0m\n\u001b[0;32m--> 315\u001b[0;31m                 \u001b[0;34m[\u001b[0m\u001b[0;34m(\u001b[0m\u001b[0mt\u001b[0m\u001b[0;34m,\u001b[0m \u001b[0mtest_TSs\u001b[0m\u001b[0;34m,\u001b[0m \u001b[0msteps\u001b[0m\u001b[0;34m,\u001b[0m \u001b[0mtest_batch_size\u001b[0m\u001b[0;34m)\u001b[0m \u001b[0;32mfor\u001b[0m \u001b[0mt\u001b[0m \u001b[0;32min\u001b[0m \u001b[0mself\u001b[0m\u001b[0;34m.\u001b[0m\u001b[0mgm_models\u001b[0m\u001b[0;34m]\u001b[0m\u001b[0;34m,\u001b[0m\u001b[0;34m\u001b[0m\u001b[0;34m\u001b[0m\u001b[0m\n\u001b[0m\u001b[1;32m    316\u001b[0m             )\n\u001b[1;32m    317\u001b[0m             \u001b[0mpool\u001b[0m\u001b[0;34m.\u001b[0m\u001b[0mclose\u001b[0m\u001b[0;34m(\u001b[0m\u001b[0;34m)\u001b[0m\u001b[0;34m\u001b[0m\u001b[0;34m\u001b[0m\u001b[0m\n",
      "\u001b[0;32m/conda/lib/python3.7/multiprocessing/pool.py\u001b[0m in \u001b[0;36mstarmap\u001b[0;34m(self, func, iterable, chunksize)\u001b[0m\n\u001b[1;32m    274\u001b[0m         \u001b[0;31m`\u001b[0m\u001b[0mfunc\u001b[0m\u001b[0;31m`\u001b[0m \u001b[0;32mand\u001b[0m \u001b[0;34m(\u001b[0m\u001b[0ma\u001b[0m\u001b[0;34m,\u001b[0m \u001b[0mb\u001b[0m\u001b[0;34m)\u001b[0m \u001b[0mbecomes\u001b[0m \u001b[0mfunc\u001b[0m\u001b[0;34m(\u001b[0m\u001b[0ma\u001b[0m\u001b[0;34m,\u001b[0m \u001b[0mb\u001b[0m\u001b[0;34m)\u001b[0m\u001b[0;34m.\u001b[0m\u001b[0;34m\u001b[0m\u001b[0;34m\u001b[0m\u001b[0m\n\u001b[1;32m    275\u001b[0m         '''\n\u001b[0;32m--> 276\u001b[0;31m         \u001b[0;32mreturn\u001b[0m \u001b[0mself\u001b[0m\u001b[0;34m.\u001b[0m\u001b[0m_map_async\u001b[0m\u001b[0;34m(\u001b[0m\u001b[0mfunc\u001b[0m\u001b[0;34m,\u001b[0m \u001b[0miterable\u001b[0m\u001b[0;34m,\u001b[0m \u001b[0mstarmapstar\u001b[0m\u001b[0;34m,\u001b[0m \u001b[0mchunksize\u001b[0m\u001b[0;34m)\u001b[0m\u001b[0;34m.\u001b[0m\u001b[0mget\u001b[0m\u001b[0;34m(\u001b[0m\u001b[0;34m)\u001b[0m\u001b[0;34m\u001b[0m\u001b[0;34m\u001b[0m\u001b[0m\n\u001b[0m\u001b[1;32m    277\u001b[0m \u001b[0;34m\u001b[0m\u001b[0m\n\u001b[1;32m    278\u001b[0m     def starmap_async(self, func, iterable, chunksize=None, callback=None,\n",
      "\u001b[0;32m/conda/lib/python3.7/multiprocessing/pool.py\u001b[0m in \u001b[0;36mget\u001b[0;34m(self, timeout)\u001b[0m\n\u001b[1;32m    655\u001b[0m             \u001b[0;32mreturn\u001b[0m \u001b[0mself\u001b[0m\u001b[0;34m.\u001b[0m\u001b[0m_value\u001b[0m\u001b[0;34m\u001b[0m\u001b[0;34m\u001b[0m\u001b[0m\n\u001b[1;32m    656\u001b[0m         \u001b[0;32melse\u001b[0m\u001b[0;34m:\u001b[0m\u001b[0;34m\u001b[0m\u001b[0;34m\u001b[0m\u001b[0m\n\u001b[0;32m--> 657\u001b[0;31m             \u001b[0;32mraise\u001b[0m \u001b[0mself\u001b[0m\u001b[0;34m.\u001b[0m\u001b[0m_value\u001b[0m\u001b[0;34m\u001b[0m\u001b[0;34m\u001b[0m\u001b[0m\n\u001b[0m\u001b[1;32m    658\u001b[0m \u001b[0;34m\u001b[0m\u001b[0m\n\u001b[1;32m    659\u001b[0m     \u001b[0;32mdef\u001b[0m \u001b[0m_set\u001b[0m\u001b[0;34m(\u001b[0m\u001b[0mself\u001b[0m\u001b[0;34m,\u001b[0m \u001b[0mi\u001b[0m\u001b[0;34m,\u001b[0m \u001b[0mobj\u001b[0m\u001b[0;34m)\u001b[0m\u001b[0;34m:\u001b[0m\u001b[0;34m\u001b[0m\u001b[0;34m\u001b[0m\u001b[0m\n",
      "\u001b[0;32m/conda/lib/python3.7/multiprocessing/pool.py\u001b[0m in \u001b[0;36mworker\u001b[0;34m(inqueue, outqueue, initializer, initargs, maxtasks, wrap_exception)\u001b[0m\n\u001b[1;32m    119\u001b[0m         \u001b[0mjob\u001b[0m\u001b[0;34m,\u001b[0m \u001b[0mi\u001b[0m\u001b[0;34m,\u001b[0m \u001b[0mfunc\u001b[0m\u001b[0;34m,\u001b[0m \u001b[0margs\u001b[0m\u001b[0;34m,\u001b[0m \u001b[0mkwds\u001b[0m \u001b[0;34m=\u001b[0m \u001b[0mtask\u001b[0m\u001b[0;34m\u001b[0m\u001b[0;34m\u001b[0m\u001b[0m\n\u001b[1;32m    120\u001b[0m         \u001b[0;32mtry\u001b[0m\u001b[0;34m:\u001b[0m\u001b[0;34m\u001b[0m\u001b[0;34m\u001b[0m\u001b[0m\n\u001b[0;32m--> 121\u001b[0;31m             \u001b[0mresult\u001b[0m \u001b[0;34m=\u001b[0m \u001b[0;34m(\u001b[0m\u001b[0;32mTrue\u001b[0m\u001b[0;34m,\u001b[0m \u001b[0mfunc\u001b[0m\u001b[0;34m(\u001b[0m\u001b[0;34m*\u001b[0m\u001b[0margs\u001b[0m\u001b[0;34m,\u001b[0m \u001b[0;34m**\u001b[0m\u001b[0mkwds\u001b[0m\u001b[0;34m)\u001b[0m\u001b[0;34m)\u001b[0m\u001b[0;34m\u001b[0m\u001b[0;34m\u001b[0m\u001b[0m\n\u001b[0m\u001b[1;32m    122\u001b[0m         \u001b[0;32mexcept\u001b[0m \u001b[0mException\u001b[0m \u001b[0;32mas\u001b[0m \u001b[0me\u001b[0m\u001b[0;34m:\u001b[0m\u001b[0;34m\u001b[0m\u001b[0;34m\u001b[0m\u001b[0m\n\u001b[1;32m    123\u001b[0m             \u001b[0;32mif\u001b[0m \u001b[0mwrap_exception\u001b[0m \u001b[0;32mand\u001b[0m \u001b[0mfunc\u001b[0m \u001b[0;32mis\u001b[0m \u001b[0;32mnot\u001b[0m \u001b[0m_helper_reraises_exception\u001b[0m\u001b[0;34m:\u001b[0m\u001b[0;34m\u001b[0m\u001b[0;34m\u001b[0m\u001b[0m\n",
      "\u001b[0;32m/conda/lib/python3.7/multiprocessing/pool.py\u001b[0m in \u001b[0;36mstarmapstar\u001b[0;34m(args)\u001b[0m\n\u001b[1;32m     45\u001b[0m \u001b[0;34m\u001b[0m\u001b[0m\n\u001b[1;32m     46\u001b[0m \u001b[0;32mdef\u001b[0m \u001b[0mstarmapstar\u001b[0m\u001b[0;34m(\u001b[0m\u001b[0margs\u001b[0m\u001b[0;34m)\u001b[0m\u001b[0;34m:\u001b[0m\u001b[0;34m\u001b[0m\u001b[0;34m\u001b[0m\u001b[0m\n\u001b[0;32m---> 47\u001b[0;31m     \u001b[0;32mreturn\u001b[0m \u001b[0mlist\u001b[0m\u001b[0;34m(\u001b[0m\u001b[0mitertools\u001b[0m\u001b[0;34m.\u001b[0m\u001b[0mstarmap\u001b[0m\u001b[0;34m(\u001b[0m\u001b[0margs\u001b[0m\u001b[0;34m[\u001b[0m\u001b[0;36m0\u001b[0m\u001b[0;34m]\u001b[0m\u001b[0;34m,\u001b[0m \u001b[0margs\u001b[0m\u001b[0;34m[\u001b[0m\u001b[0;36m1\u001b[0m\u001b[0;34m]\u001b[0m\u001b[0;34m)\u001b[0m\u001b[0;34m)\u001b[0m\u001b[0;34m\u001b[0m\u001b[0;34m\u001b[0m\u001b[0m\n\u001b[0m\u001b[1;32m     48\u001b[0m \u001b[0;34m\u001b[0m\u001b[0m\n\u001b[1;32m     49\u001b[0m \u001b[0;31m#\u001b[0m\u001b[0;34m\u001b[0m\u001b[0;34m\u001b[0m\u001b[0;34m\u001b[0m\u001b[0m\n",
      "\u001b[0;32m~/.pythonlibs/jupyter-xingsheng/lib/python3.7/site-packages/kats/models/globalmodel/ensemble.py\u001b[0m in \u001b[0;36m_predict_single_gm\u001b[0;34m(self, gm, test_TSs, steps, test_batch_size)\u001b[0m\n\u001b[1;32m    150\u001b[0m         \u001b[0mt\u001b[0m \u001b[0;34m=\u001b[0m \u001b[0mtime\u001b[0m\u001b[0;34m.\u001b[0m\u001b[0mtime\u001b[0m\u001b[0;34m(\u001b[0m\u001b[0;34m)\u001b[0m\u001b[0;34m\u001b[0m\u001b[0;34m\u001b[0m\u001b[0m\n\u001b[1;32m    151\u001b[0m         fcst = gm.predict(\n\u001b[0;32m--> 152\u001b[0;31m             \u001b[0mtest_TSs\u001b[0m\u001b[0;34m,\u001b[0m \u001b[0msteps\u001b[0m\u001b[0;34m=\u001b[0m\u001b[0msteps\u001b[0m\u001b[0;34m,\u001b[0m \u001b[0mraw\u001b[0m\u001b[0;34m=\u001b[0m\u001b[0;32mTrue\u001b[0m\u001b[0;34m,\u001b[0m \u001b[0mtest_batch_size\u001b[0m\u001b[0;34m=\u001b[0m\u001b[0mtest_batch_size\u001b[0m\u001b[0;34m\u001b[0m\u001b[0;34m\u001b[0m\u001b[0m\n\u001b[0m\u001b[1;32m    153\u001b[0m         )\n\u001b[1;32m    154\u001b[0m         \u001b[0mlogging\u001b[0m\u001b[0;34m.\u001b[0m\u001b[0minfo\u001b[0m\u001b[0;34m(\u001b[0m\u001b[0;34mf\"fcst {len(fcst)} TSs with {time.time()-t}.\"\u001b[0m\u001b[0;34m)\u001b[0m\u001b[0;34m\u001b[0m\u001b[0;34m\u001b[0m\u001b[0m\n",
      "\u001b[0;32m~/.pythonlibs/jupyter-xingsheng/lib/python3.7/site-packages/kats/models/globalmodel/model.py\u001b[0m in \u001b[0;36mpredict\u001b[0;34m(self, test_TSs, steps, test_batch_size, raw)\u001b[0m\n\u001b[1;32m    593\u001b[0m             \u001b[0mids\u001b[0m \u001b[0;34m=\u001b[0m \u001b[0mdl\u001b[0m\u001b[0;34m.\u001b[0m\u001b[0mget_batch\u001b[0m\u001b[0;34m(\u001b[0m\u001b[0mbatch_size\u001b[0m\u001b[0;34m)\u001b[0m\u001b[0;34m\u001b[0m\u001b[0;34m\u001b[0m\u001b[0m\n\u001b[1;32m    594\u001b[0m             \u001b[0;31m# pyre-fixme\u001b[0m\u001b[0;34m\u001b[0m\u001b[0;34m\u001b[0m\u001b[0;34m\u001b[0m\u001b[0m\n\u001b[0;32m--> 595\u001b[0;31m             \u001b[0mbatch\u001b[0m \u001b[0;34m=\u001b[0m \u001b[0mGMBatch\u001b[0m\u001b[0;34m(\u001b[0m\u001b[0mfcst_params\u001b[0m\u001b[0;34m,\u001b[0m \u001b[0mbatch_ids\u001b[0m\u001b[0;34m=\u001b[0m\u001b[0mids\u001b[0m\u001b[0;34m,\u001b[0m \u001b[0mtrain_TSs\u001b[0m\u001b[0;34m=\u001b[0m\u001b[0mtest_TSs\u001b[0m\u001b[0;34m,\u001b[0m \u001b[0mmode\u001b[0m\u001b[0;34m=\u001b[0m\u001b[0;34m\"test\"\u001b[0m\u001b[0;34m)\u001b[0m\u001b[0;34m\u001b[0m\u001b[0;34m\u001b[0m\u001b[0m\n\u001b[0m\u001b[1;32m    596\u001b[0m \u001b[0;34m\u001b[0m\u001b[0m\n\u001b[1;32m    597\u001b[0m             _, _, _, fcst_store = self._single_pass(\n",
      "\u001b[0;32m~/.pythonlibs/jupyter-xingsheng/lib/python3.7/site-packages/kats/models/globalmodel/data_processor.py\u001b[0m in \u001b[0;36m__init__\u001b[0;34m(self, params, batch_ids, train_TSs, valid_TSs, mode)\u001b[0m\n\u001b[1;32m    217\u001b[0m             \u001b[0mtrain_indices\u001b[0m\u001b[0;34m,\u001b[0m\u001b[0;34m\u001b[0m\u001b[0;34m\u001b[0m\u001b[0m\n\u001b[1;32m    218\u001b[0m             \u001b[0mvalid_indices\u001b[0m\u001b[0;34m,\u001b[0m\u001b[0;34m\u001b[0m\u001b[0;34m\u001b[0m\u001b[0m\n\u001b[0;32m--> 219\u001b[0;31m         ) = self._get_indices(train, valid, params)\n\u001b[0m\u001b[1;32m    220\u001b[0m \u001b[0;34m\u001b[0m\u001b[0m\n\u001b[1;32m    221\u001b[0m         (\n",
      "\u001b[0;32m~/.pythonlibs/jupyter-xingsheng/lib/python3.7/site-packages/kats/models/globalmodel/data_processor.py\u001b[0m in \u001b[0;36m_get_indices\u001b[0;34m(self, train, valid, params)\u001b[0m\n\u001b[1;32m    310\u001b[0m             \u001b[0mmsg\u001b[0m \u001b[0;34m=\u001b[0m \u001b[0;34m\"Minimum length of input time series is shorter than seasonality, please pad the time series first or remove it.\"\u001b[0m\u001b[0;34m\u001b[0m\u001b[0;34m\u001b[0m\u001b[0m\n\u001b[1;32m    311\u001b[0m             \u001b[0mlogging\u001b[0m\u001b[0;34m.\u001b[0m\u001b[0merror\u001b[0m\u001b[0;34m(\u001b[0m\u001b[0mmsg\u001b[0m\u001b[0;34m)\u001b[0m\u001b[0;34m\u001b[0m\u001b[0;34m\u001b[0m\u001b[0m\n\u001b[0;32m--> 312\u001b[0;31m             \u001b[0;32mraise\u001b[0m \u001b[0mValueError\u001b[0m\u001b[0;34m(\u001b[0m\u001b[0mmsg\u001b[0m\u001b[0;34m)\u001b[0m\u001b[0;34m\u001b[0m\u001b[0;34m\u001b[0m\u001b[0m\n\u001b[0m\u001b[1;32m    313\u001b[0m         \u001b[0mmax_length\u001b[0m \u001b[0;34m=\u001b[0m \u001b[0mnp\u001b[0m\u001b[0;34m.\u001b[0m\u001b[0mmax\u001b[0m\u001b[0;34m(\u001b[0m\u001b[0mlengths\u001b[0m\u001b[0;34m)\u001b[0m\u001b[0;34m\u001b[0m\u001b[0;34m\u001b[0m\u001b[0m\n\u001b[1;32m    314\u001b[0m \u001b[0;34m\u001b[0m\u001b[0m\n",
      "\u001b[0;31mValueError\u001b[0m: Minimum length of input time series is shorter than seasonality, please pad the time series first or remove it."
     ]
    }
   ],
   "source": [
    "fcsts = gme_rnn.predict(df_ts, steps = 3)"
   ]
  },
  {
   "cell_type": "code",
   "execution_count": 12,
   "id": "2b273c41",
   "metadata": {},
   "outputs": [
    {
     "data": {
      "text/html": [
       "<div>\n",
       "<style scoped>\n",
       "    .dataframe tbody tr th:only-of-type {\n",
       "        vertical-align: middle;\n",
       "    }\n",
       "\n",
       "    .dataframe tbody tr th {\n",
       "        vertical-align: top;\n",
       "    }\n",
       "\n",
       "    .dataframe thead th {\n",
       "        text-align: right;\n",
       "    }\n",
       "</style>\n",
       "<table border=\"1\" class=\"dataframe\">\n",
       "  <thead>\n",
       "    <tr style=\"text-align: right;\">\n",
       "      <th></th>\n",
       "      <th>fcst_quantile_0.5</th>\n",
       "      <th>fcst_quantile_0.01</th>\n",
       "      <th>fcst_quantile_0.05</th>\n",
       "      <th>fcst_quantile_0.95</th>\n",
       "      <th>fcst_quantile_0.99</th>\n",
       "      <th>time</th>\n",
       "    </tr>\n",
       "  </thead>\n",
       "  <tbody>\n",
       "    <tr>\n",
       "      <th>0</th>\n",
       "      <td>80.012970</td>\n",
       "      <td>77.467003</td>\n",
       "      <td>78.521225</td>\n",
       "      <td>81.357292</td>\n",
       "      <td>82.351753</td>\n",
       "      <td>2022-07-26</td>\n",
       "    </tr>\n",
       "    <tr>\n",
       "      <th>1</th>\n",
       "      <td>79.947342</td>\n",
       "      <td>76.499969</td>\n",
       "      <td>77.853577</td>\n",
       "      <td>81.896912</td>\n",
       "      <td>83.031448</td>\n",
       "      <td>2022-07-27</td>\n",
       "    </tr>\n",
       "    <tr>\n",
       "      <th>2</th>\n",
       "      <td>80.016144</td>\n",
       "      <td>75.737137</td>\n",
       "      <td>77.570724</td>\n",
       "      <td>82.271881</td>\n",
       "      <td>83.840042</td>\n",
       "      <td>2022-07-28</td>\n",
       "    </tr>\n",
       "  </tbody>\n",
       "</table>\n",
       "</div>"
      ],
      "text/plain": [
       "   fcst_quantile_0.5  fcst_quantile_0.01  fcst_quantile_0.05  \\\n",
       "0          80.012970           77.467003           78.521225   \n",
       "1          79.947342           76.499969           77.853577   \n",
       "2          80.016144           75.737137           77.570724   \n",
       "\n",
       "   fcst_quantile_0.95  fcst_quantile_0.99       time  \n",
       "0           81.357292           82.351753 2022-07-26  \n",
       "1           81.896912           83.031448 2022-07-27  \n",
       "2           82.271881           83.840042 2022-07-28  "
      ]
     },
     "execution_count": 12,
     "metadata": {},
     "output_type": "execute_result"
    }
   ],
   "source": [
    "fcsts_df = list(fcsts.items())[0][1]\n",
    "fcsts_df"
   ]
  },
  {
   "cell_type": "code",
   "execution_count": 13,
   "id": "b311c716",
   "metadata": {},
   "outputs": [
    {
     "data": {
      "text/html": [
       "<div>\n",
       "<style scoped>\n",
       "    .dataframe tbody tr th:only-of-type {\n",
       "        vertical-align: middle;\n",
       "    }\n",
       "\n",
       "    .dataframe tbody tr th {\n",
       "        vertical-align: top;\n",
       "    }\n",
       "\n",
       "    .dataframe thead th {\n",
       "        text-align: right;\n",
       "    }\n",
       "</style>\n",
       "<table border=\"1\" class=\"dataframe\">\n",
       "  <thead>\n",
       "    <tr style=\"text-align: right;\">\n",
       "      <th></th>\n",
       "      <th>fcst_quantile_0.5</th>\n",
       "      <th>fcst_quantile_0.01</th>\n",
       "      <th>fcst_quantile_0.05</th>\n",
       "      <th>fcst_quantile_0.95</th>\n",
       "      <th>fcst_quantile_0.99</th>\n",
       "      <th>time</th>\n",
       "      <th>degrees</th>\n",
       "    </tr>\n",
       "  </thead>\n",
       "  <tbody>\n",
       "    <tr>\n",
       "      <th>0</th>\n",
       "      <td>80.012970</td>\n",
       "      <td>77.467003</td>\n",
       "      <td>78.521225</td>\n",
       "      <td>81.357292</td>\n",
       "      <td>82.351753</td>\n",
       "      <td>2022-07-26</td>\n",
       "      <td>80.150000</td>\n",
       "    </tr>\n",
       "    <tr>\n",
       "      <th>1</th>\n",
       "      <td>79.947342</td>\n",
       "      <td>76.499969</td>\n",
       "      <td>77.853577</td>\n",
       "      <td>81.896912</td>\n",
       "      <td>83.031448</td>\n",
       "      <td>2022-07-27</td>\n",
       "      <td>79.956250</td>\n",
       "    </tr>\n",
       "    <tr>\n",
       "      <th>2</th>\n",
       "      <td>80.016144</td>\n",
       "      <td>75.737137</td>\n",
       "      <td>77.570724</td>\n",
       "      <td>82.271881</td>\n",
       "      <td>83.840042</td>\n",
       "      <td>2022-07-28</td>\n",
       "      <td>79.845833</td>\n",
       "    </tr>\n",
       "  </tbody>\n",
       "</table>\n",
       "</div>"
      ],
      "text/plain": [
       "   fcst_quantile_0.5  fcst_quantile_0.01  fcst_quantile_0.05  \\\n",
       "0          80.012970           77.467003           78.521225   \n",
       "1          79.947342           76.499969           77.853577   \n",
       "2          80.016144           75.737137           77.570724   \n",
       "\n",
       "   fcst_quantile_0.95  fcst_quantile_0.99       time    degrees  \n",
       "0           81.357292           82.351753 2022-07-26  80.150000  \n",
       "1           81.896912           83.031448 2022-07-27  79.956250  \n",
       "2           82.271881           83.840042 2022-07-28  79.845833  "
      ]
     },
     "execution_count": 13,
     "metadata": {},
     "output_type": "execute_result"
    }
   ],
   "source": [
    "fcsts_df = fcsts_df.join(test[\"degrees\"])\n",
    "fcsts_df.head()\n",
    "# fcsts_df.plot()"
   ]
  },
  {
   "cell_type": "code",
   "execution_count": 15,
   "id": "95d50185",
   "metadata": {},
   "outputs": [],
   "source": [
    "fcsts_df = fcsts_df[['fcst_quantile_0.5', 'time']]"
   ]
  },
  {
   "cell_type": "markdown",
   "id": "2b260a58",
   "metadata": {},
   "source": [
    "## Step Six:\n",
    "Write data with the client library. "
   ]
  },
  {
   "cell_type": "code",
   "execution_count": 16,
   "id": "2bea033d",
   "metadata": {},
   "outputs": [],
   "source": [
    "write_api.write(bucket=\"noaa\",\n",
    "               record=fcsts_df,\n",
    "               data_frame_measurement_name=\"forecast\",\n",
    "               data_frame_timestamp_column=\"time\")"
   ]
  }
 ],
 "metadata": {
  "kernelspec": {
   "display_name": "Python 3",
   "language": "python",
   "name": "python3"
  },
  "language_info": {
   "codemirror_mode": {
    "name": "ipython",
    "version": 3
   },
   "file_extension": ".py",
   "mimetype": "text/x-python",
   "name": "python",
   "nbconvert_exporter": "python",
   "pygments_lexer": "ipython3",
   "version": "3.7.6"
  }
 },
 "nbformat": 4,
 "nbformat_minor": 5
}
